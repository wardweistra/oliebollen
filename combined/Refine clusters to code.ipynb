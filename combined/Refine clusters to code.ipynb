{
 "cells": [
  {
   "cell_type": "code",
   "execution_count": 1,
   "metadata": {},
   "outputs": [],
   "source": [
    "import json"
   ]
  },
  {
   "cell_type": "code",
   "execution_count": 12,
   "metadata": {},
   "outputs": [],
   "source": [
    "jsonclusters = \"\"\"\n",
    "{\"projectName\":\"oliebollentest csv\",\"columnName\":\"identifier\",\"timeStamp\":\"2018-12-28T22:34:46.972Z\",\"clusterMethod\":\"knn\",\"keyingFunction\":\"PPM\",\"clusters\":[{\"edit\":false,\"choices\":[{\"v\":\"De Oliebollenbakkerij, Nieuwerkerk aan den IJssel\",\"c\":1},{\"v\":\"De Oliebollenbakkerij Remon Muller, Nieuwerkerk aan den IJssel\",\"c\":1},{\"v\":\"Oliebollenbakkerij Muller, Nieuwerkerk aan den IJssel\",\"c\":1}],\"value\":\"De Oliebollenbakkerij, Nieuwerkerk aan den IJssel\",\"size\":3,\"rowCount\":3,\"avg\":54.666666666666664,\"variance\":5.436502143433373},{\"edit\":false,\"choices\":[{\"v\":\"Gebakkraam Jan Vermolen, Den Haag\",\"c\":2},{\"v\":\"Gebakkraam Vermolen, Den Haag\",\"c\":1},{\"v\":\"Gebakkraam John Vermolen, Den Haag\",\"c\":1}],\"value\":\"Gebakkraam Jan Vermolen, Den Haag\",\"size\":3,\"rowCount\":4,\"avg\":32,\"variance\":2.1602468994693043},{\"edit\":false,\"choices\":[{\"v\":\"Hollandsche Gebakkraam Albers, Aalsmeer\",\"c\":1},{\"v\":\"Hollandse Gebakkraam Albers, Aalsmeer\",\"c\":1},{\"v\":\"Hollandse Gebakkraam Nick Albers, Aalsmeer\",\"c\":1}],\"value\":\"Hollandsche Gebakkraam Albers, Aalsmeer\",\"size\":3,\"rowCount\":3,\"avg\":39.333333333333336,\"variance\":2.0548046676562577},{\"edit\":false,\"choices\":[{\"v\":\"Bakkerij Eshuis, Moerkapelle\",\"c\":1},{\"v\":\"Versbakkerij Eshuis, Moerkapelle\",\"c\":1}],\"value\":\"Bakkerij Eshuis, Moerkapelle\",\"size\":2,\"rowCount\":2,\"avg\":30,\"variance\":2},{\"edit\":false,\"choices\":[{\"v\":\"Gebakkraam Gühnen, Heerenveen\",\"c\":2},{\"v\":\"Gühnen's Gebakkraam, Heerenveen\",\"c\":1}],\"value\":\"Gebakkraam Gühnen, Heerenveen\",\"size\":2,\"rowCount\":3,\"avg\":30,\"variance\":1},{\"edit\":false,\"choices\":[{\"v\":\"Gebakkraam Vermolen, Den Haag\",\"c\":1},{\"v\":\"Gebakkraam John Vermolen, Den Haag\",\"c\":1}],\"value\":\"Gebakkraam Vermolen, Den Haag\",\"size\":2,\"rowCount\":2,\"avg\":31.5,\"variance\":2.5},{\"edit\":false,\"choices\":[{\"v\":\"De Oliebollenbakkerij, Nieuwerkerk aan den IJssel\",\"c\":1},{\"v\":\"Oliebollenbakkerij Muller, Nieuwerkerk aan den IJssel\",\"c\":1}],\"value\":\"De Oliebollenbakkerij, Nieuwerkerk aan den IJssel\",\"size\":2,\"rowCount\":2,\"avg\":51,\"variance\":2},{\"edit\":false,\"choices\":[{\"v\":\"Oliebollenkraam Bischoff, Lochem\",\"c\":1},{\"v\":\"Oliebollenkraam Dennis Bischoff, Lochem\",\"c\":1}],\"value\":\"Oliebollenkraam Bischoff, Lochem\",\"size\":2,\"rowCount\":2,\"avg\":35.5,\"variance\":3.5},{\"edit\":false,\"choices\":[{\"v\":\"Hollandse Gebakkraam Albers, Aalsmeer\",\"c\":1},{\"v\":\"Hollandse Gebakkraam Nick Albers, Aalsmeer\",\"c\":1}],\"value\":\"Hollandse Gebakkraam Albers, Aalsmeer\",\"size\":2,\"rowCount\":2,\"avg\":39.5,\"variance\":2.5},{\"edit\":false,\"choices\":[{\"v\":\"Gebakkraam Dennis Smit, Ouderkerk aan de Amstel\",\"c\":2},{\"v\":\"Hollandse Gebakkraam Dennis Smit, Ouderkerk aan de Amstel\",\"c\":1}],\"value\":\"Gebakkraam Dennis Smit, Ouderkerk aan de Amstel\",\"size\":2,\"rowCount\":3,\"avg\":52,\"variance\":5},{\"edit\":false,\"choices\":[{\"v\":\"Gebakkraam, Capelle aan den IJssel\",\"c\":1},{\"v\":\"Gebakkraam De Haan, Capelle aan den IJssel\",\"c\":1}],\"value\":\"Gebakkraam, Capelle aan den IJssel\",\"size\":2,\"rowCount\":2,\"avg\":38,\"variance\":4},{\"edit\":false,\"choices\":[{\"v\":\"Gebakkraam Richard Visser, Rotterdam\",\"c\":3},{\"v\":\"Richard Visser's Gebakkraam, Rotterdam\",\"c\":1}],\"value\":\"Gebakkraam Richard Visser, Rotterdam\",\"size\":2,\"rowCount\":4,\"avg\":37,\"variance\":1},{\"edit\":false,\"choices\":[{\"v\":\"Bakkerij In de Soete Suikerbol, Twello\",\"c\":1},{\"v\":\"In de Soete Suikerbol, Twello\",\"c\":1}],\"value\":\"Bakkerij In de Soete Suikerbol, Twello\",\"size\":2,\"rowCount\":2,\"avg\":33.5,\"variance\":4.5}]}\n",
    "\"\"\""
   ]
  },
  {
   "cell_type": "code",
   "execution_count": 13,
   "metadata": {},
   "outputs": [
    {
     "name": "stdout",
     "output_type": "stream",
     "text": [
      "Cluster 0\n",
      "- Choice 0: De Oliebollenbakkerij, Nieuwerkerk aan den IJssel\n",
      "- Choice 1: De Oliebollenbakkerij Remon Muller, Nieuwerkerk aan den IJssel\n",
      "- Choice 2: Oliebollenbakkerij Muller, Nieuwerkerk aan den IJssel\n",
      "Cluster 1\n",
      "- Choice 0: Gebakkraam Jan Vermolen, Den Haag\n",
      "- Choice 1: Gebakkraam Vermolen, Den Haag\n",
      "- Choice 2: Gebakkraam John Vermolen, Den Haag\n",
      "Cluster 2\n",
      "- Choice 0: Hollandsche Gebakkraam Albers, Aalsmeer\n",
      "- Choice 1: Hollandse Gebakkraam Albers, Aalsmeer\n",
      "- Choice 2: Hollandse Gebakkraam Nick Albers, Aalsmeer\n",
      "Cluster 3\n",
      "- Choice 0: Bakkerij Eshuis, Moerkapelle\n",
      "- Choice 1: Versbakkerij Eshuis, Moerkapelle\n",
      "Cluster 4\n",
      "- Choice 0: Gebakkraam Gühnen, Heerenveen\n",
      "- Choice 1: Gühnen's Gebakkraam, Heerenveen\n",
      "Cluster 5\n",
      "- Choice 0: Gebakkraam Vermolen, Den Haag\n",
      "- Choice 1: Gebakkraam John Vermolen, Den Haag\n",
      "Cluster 6\n",
      "- Choice 0: De Oliebollenbakkerij, Nieuwerkerk aan den IJssel\n",
      "- Choice 1: Oliebollenbakkerij Muller, Nieuwerkerk aan den IJssel\n",
      "Cluster 7\n",
      "- Choice 0: Oliebollenkraam Bischoff, Lochem\n",
      "- Choice 1: Oliebollenkraam Dennis Bischoff, Lochem\n",
      "Cluster 8\n",
      "- Choice 0: Hollandse Gebakkraam Albers, Aalsmeer\n",
      "- Choice 1: Hollandse Gebakkraam Nick Albers, Aalsmeer\n",
      "Cluster 9\n",
      "- Choice 0: Gebakkraam Dennis Smit, Ouderkerk aan de Amstel\n",
      "- Choice 1: Hollandse Gebakkraam Dennis Smit, Ouderkerk aan de Amstel\n",
      "Cluster 10\n",
      "- Choice 0: Gebakkraam, Capelle aan den IJssel\n",
      "- Choice 1: Gebakkraam De Haan, Capelle aan den IJssel\n",
      "Cluster 11\n",
      "- Choice 0: Gebakkraam Richard Visser, Rotterdam\n",
      "- Choice 1: Richard Visser's Gebakkraam, Rotterdam\n",
      "Cluster 12\n",
      "- Choice 0: Bakkerij In de Soete Suikerbol, Twello\n",
      "- Choice 1: In de Soete Suikerbol, Twello\n"
     ]
    }
   ],
   "source": [
    "clusters = json.loads(jsonclusters)\n",
    "i = 0\n",
    "for cluster in clusters['clusters']:\n",
    "    print(\"Cluster \"+str(i))\n",
    "    j = 0\n",
    "    for choice in cluster['choices']:\n",
    "        print(\"- Choice \"+str(j)+\": \"+choice['v'])\n",
    "        j+=1\n",
    "    i+=1"
   ]
  },
  {
   "cell_type": "code",
   "execution_count": 14,
   "metadata": {},
   "outputs": [],
   "source": [
    "selection = {\n",
    "    0: 1,\n",
    "    2: 2,\n",
    "    3: 1,\n",
    "    4: 0,\n",
    "    6: 1,\n",
    "    7: 1,\n",
    "    9: 1,\n",
    "    11: 0,\n",
    "    12: 0\n",
    "}"
   ]
  },
  {
   "cell_type": "code",
   "execution_count": 15,
   "metadata": {},
   "outputs": [
    {
     "name": "stdout",
     "output_type": "stream",
     "text": [
      "updatecolumn('identifier', 'De Oliebollenbakkerij Remon Muller, Nieuwerkerk aan den IJssel', ['De Oliebollenbakkerij, Nieuwerkerk aan den IJssel', 'De Oliebollenbakkerij Remon Muller, Nieuwerkerk aan den IJssel', 'Oliebollenbakkerij Muller, Nieuwerkerk aan den IJssel'])\n",
      "updatecolumn('identifier', 'Hollandse Gebakkraam Nick Albers, Aalsmeer', ['Hollandsche Gebakkraam Albers, Aalsmeer', 'Hollandse Gebakkraam Albers, Aalsmeer', 'Hollandse Gebakkraam Nick Albers, Aalsmeer'])\n",
      "updatecolumn('identifier', 'Versbakkerij Eshuis, Moerkapelle', ['Bakkerij Eshuis, Moerkapelle', 'Versbakkerij Eshuis, Moerkapelle'])\n",
      "updatecolumn('identifier', 'Gebakkraam Gühnen, Heerenveen', ['Gebakkraam Gühnen, Heerenveen', \"Gühnen's Gebakkraam, Heerenveen\"])\n",
      "updatecolumn('identifier', 'Oliebollenbakkerij Muller, Nieuwerkerk aan den IJssel', ['De Oliebollenbakkerij, Nieuwerkerk aan den IJssel', 'Oliebollenbakkerij Muller, Nieuwerkerk aan den IJssel'])\n",
      "updatecolumn('identifier', 'Oliebollenkraam Dennis Bischoff, Lochem', ['Oliebollenkraam Bischoff, Lochem', 'Oliebollenkraam Dennis Bischoff, Lochem'])\n",
      "updatecolumn('identifier', 'Hollandse Gebakkraam Dennis Smit, Ouderkerk aan de Amstel', ['Gebakkraam Dennis Smit, Ouderkerk aan de Amstel', 'Hollandse Gebakkraam Dennis Smit, Ouderkerk aan de Amstel'])\n",
      "updatecolumn('identifier', 'Gebakkraam Richard Visser, Rotterdam', ['Gebakkraam Richard Visser, Rotterdam', \"Richard Visser's Gebakkraam, Rotterdam\"])\n",
      "updatecolumn('identifier', 'Bakkerij In de Soete Suikerbol, Twello', ['Bakkerij In de Soete Suikerbol, Twello', 'In de Soete Suikerbol, Twello'])\n"
     ]
    }
   ],
   "source": [
    "for selectionitem in selection:\n",
    "    choices = clusters['clusters'][selectionitem]['choices']\n",
    "    desiredvalue = choices[selection[selectionitem]]['v']\n",
    "    allvalues = []\n",
    "    for choice in choices:\n",
    "        allvalues.append(choice['v'])\n",
    "    print(\"updatecolumn('identifier', '\" +str(desiredvalue)+ \"', \" + str(allvalues) + \")\")"
   ]
  }
 ],
 "metadata": {
  "kernelspec": {
   "display_name": "Python (oliebollen)",
   "language": "python",
   "name": "oliebollen"
  },
  "language_info": {
   "codemirror_mode": {
    "name": "ipython",
    "version": 3
   },
   "file_extension": ".py",
   "mimetype": "text/x-python",
   "name": "python",
   "nbconvert_exporter": "python",
   "pygments_lexer": "ipython3",
   "version": "3.7.0"
  }
 },
 "nbformat": 4,
 "nbformat_minor": 2
}
