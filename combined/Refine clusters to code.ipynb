{
 "cells": [
  {
   "cell_type": "code",
   "execution_count": 1,
   "metadata": {},
   "outputs": [],
   "source": [
    "import json"
   ]
  },
  {
   "cell_type": "code",
   "execution_count": 2,
   "metadata": {},
   "outputs": [],
   "source": [
    "jsonclusters = \"\"\"\n",
    "{\"projectName\":\"oliebollentest csv\",\"columnName\":\"Naam\",\"timeStamp\":\"2018-02-23T23:28:47.940Z\",\"clusterMethod\":\"knn\",\"keyingFunction\":\"PPM\",\"clusters\":[{\"edit\":false,\"choices\":[{\"v\":\"Hollandse Gebakkraam\",\"c\":9},{\"v\":\"Hollandsche Gebakkraam\",\"c\":1},{\"v\":\"Hollandsche Gebakkraam Albers\",\"c\":1},{\"v\":\"Hollandsche Gebakkraam Speelman\",\"c\":1}],\"value\":\"Hollandse Gebakkraam\",\"size\":4,\"rowCount\":12,\"avg\":25.5,\"variance\":4.6097722286464435},{\"edit\":false,\"choices\":[{\"v\":\"Meesterbakker Voskamp\",\"c\":4},{\"v\":\"Meesterbakker Voskamp Rhoon\",\"c\":1},{\"v\":\"Meesterbakker Voskamp Reede\",\"c\":1}],\"value\":\"Meesterbakker Voskamp\",\"size\":3,\"rowCount\":6,\"avg\":25,\"variance\":2.8284271247461903},{\"edit\":false,\"choices\":[{\"v\":\"Bakker Roel - Winkelcentrum\",\"c\":3},{\"v\":\"Bakker Roel - Winkelcentrum Parkwijk\",\"c\":1},{\"v\":\"Bakker Roel - Winkelcentrum Rokade\",\"c\":1}],\"value\":\"Bakker Roel - Winkelcentrum\",\"size\":3,\"rowCount\":5,\"avg\":32.333333333333336,\"variance\":3.858612300930049},{\"edit\":false,\"choices\":[{\"v\":\"Hollandse Gebakkraam\",\"c\":9},{\"v\":\"Hollandse Gebakkraam Vlot\",\"c\":1},{\"v\":\"Oud Hollandse Gebakkraam\",\"c\":1}],\"value\":\"Hollandse Gebakkraam\",\"size\":3,\"rowCount\":11,\"avg\":23,\"variance\":2.160246899469278},{\"edit\":false,\"choices\":[{\"v\":\"Gebakkraam Jan Vermolen\",\"c\":2},{\"v\":\"Gebakkraam Vermolen\",\"c\":1},{\"v\":\"Gebakkraam John Vermolen\",\"c\":1}],\"value\":\"Gebakkraam Jan Vermolen\",\"size\":3,\"rowCount\":4,\"avg\":22,\"variance\":2.160246899469291},{\"edit\":false,\"choices\":[{\"v\":\"Gebakkraam Van Reken\",\"c\":1},{\"v\":\"Gebakkraam Van Reken & Zn\",\"c\":1}],\"value\":\"Gebakkraam Van Reken\",\"size\":2,\"rowCount\":2,\"avg\":22.5,\"variance\":2.5},{\"edit\":false,\"choices\":[{\"v\":\"De Wateringse Oliebollenkraam\",\"c\":2},{\"v\":\"Wateringse Oliebollenkraam\",\"c\":1}],\"value\":\"De Wateringse Oliebollenkraam\",\"size\":2,\"rowCount\":3,\"avg\":27.5,\"variance\":1.5},{\"edit\":false,\"choices\":[{\"v\":\"Hollandse Gebakkraam T. van de Weerdt\",\"c\":1},{\"v\":\"Hollandse Gebakkraam Joop van de Weerdt\",\"c\":1}],\"value\":\"Hollandse Gebakkraam T. van de Weerdt\",\"size\":2,\"rowCount\":2,\"avg\":38,\"variance\":1},{\"edit\":false,\"choices\":[{\"v\":\"Oud Hollandse Gebakkraam Muller\",\"c\":2},{\"v\":\"Oud Hollandse Gebakkraam\",\"c\":1}],\"value\":\"Oud Hollandse Gebakkraam Muller\",\"size\":2,\"rowCount\":3,\"avg\":27.5,\"variance\":3.5},{\"edit\":false,\"choices\":[{\"v\":\"Bakker Van Keulen\",\"c\":1},{\"v\":\"Bakkerij Van Keulen\",\"c\":1}],\"value\":\"Bakker Van Keulen\",\"size\":2,\"rowCount\":2,\"avg\":18,\"variance\":1},{\"edit\":false,\"choices\":[{\"v\":\"Hollandse Gebakkraam Albers\",\"c\":3},{\"v\":\"Hollandsche Gebakkraam Albers\",\"c\":1}],\"value\":\"Hollandse Gebakkraam Albers\",\"size\":2,\"rowCount\":4,\"avg\":28,\"variance\":1},{\"edit\":false,\"choices\":[{\"v\":\"Hollandse Gebakkraam Huijbrechts\",\"c\":1},{\"v\":\"Hollandse Gebakkraam Huijbregts\",\"c\":1}],\"value\":\"Hollandse Gebakkraam Huijbrechts\",\"size\":2,\"rowCount\":2,\"avg\":31.5,\"variance\":0.5},{\"edit\":false,\"choices\":[{\"v\":\"Van Loon's Gebakkraam\",\"c\":1},{\"v\":\"Van Loon’s Gebakkraam\",\"c\":1}],\"value\":\"Van Loon's Gebakkraam\",\"size\":2,\"rowCount\":2,\"avg\":21,\"variance\":0},{\"edit\":false,\"choices\":[{\"v\":\"Gebakkraam De Boeck\",\"c\":1},{\"v\":\"Gebakkraam De Boer\",\"c\":1}],\"value\":\"Gebakkraam De Boeck\",\"size\":2,\"rowCount\":2,\"avg\":18.5,\"variance\":0.5},{\"edit\":false,\"choices\":[{\"v\":\"Meesterbakker Voskamp Rhoon\",\"c\":1},{\"v\":\"Meesterbakker Voskamp Reede\",\"c\":1}],\"value\":\"Meesterbakker Voskamp Rhoon\",\"size\":2,\"rowCount\":2,\"avg\":27,\"variance\":0},{\"edit\":false,\"choices\":[{\"v\":\"Bakkerij Jonker\",\"c\":3},{\"v\":\"Bakkerij Jongerius\",\"c\":1}],\"value\":\"Bakkerij Jonker\",\"size\":2,\"rowCount\":4,\"avg\":16.5,\"variance\":1.5},{\"edit\":false,\"choices\":[{\"v\":\"Hollandse Gebakkraam C. Denies\",\"c\":2},{\"v\":\"Hollandse Gebakkraam Denies\",\"c\":1}],\"value\":\"Hollandse Gebakkraam C. Denies\",\"size\":2,\"rowCount\":3,\"avg\":28.5,\"variance\":1.5},{\"edit\":false,\"choices\":[{\"v\":\"Oliebollenkraam Bischoff\",\"c\":1},{\"v\":\"Oliebollenkraam Dennis Bischoff\",\"c\":1}],\"value\":\"Oliebollenkraam Bischoff\",\"size\":2,\"rowCount\":2,\"avg\":27.5,\"variance\":3.5},{\"edit\":false,\"choices\":[{\"v\":\"Hollandse Gebakkraam Albers\",\"c\":3},{\"v\":\"Hollandse Gebakkraam Nick Albers\",\"c\":1}],\"value\":\"Hollandse Gebakkraam Albers\",\"size\":2,\"rowCount\":4,\"avg\":29.5,\"variance\":2.5},{\"edit\":false,\"choices\":[{\"v\":\"Bakkerij Aad Klootwijk - Hillegersberg-noord\",\"c\":1},{\"v\":\"Bakkerij Aad Klootwijk - Hillegersberg-zuid\",\"c\":1}],\"value\":\"Bakkerij Aad Klootwijk - Hillegersberg-noord\",\"size\":2,\"rowCount\":2,\"avg\":43.5,\"variance\":0.5},{\"edit\":false,\"choices\":[{\"v\":\"Meesterbakker Van Iersel Hasseltstraat\",\"c\":1},{\"v\":\"Meesterbakker Van Iersel Hertogstraat\",\"c\":1}],\"value\":\"Meesterbakker Van Iersel Hasseltstraat\",\"size\":2,\"rowCount\":2,\"avg\":37.5,\"variance\":0.5},{\"edit\":false,\"choices\":[{\"v\":\"Oud Hollandse Gebakkraam Aart van de Weerdt\",\"c\":1},{\"v\":\"Oud-Hollandse Gebakkraam Aart van de Weerdt\",\"c\":1}],\"value\":\"Oud Hollandse Gebakkraam Aart van de Weerdt\",\"size\":2,\"rowCount\":2,\"avg\":43,\"variance\":0},{\"edit\":false,\"choices\":[{\"v\":\"Bakkerij Klootwijk\",\"c\":2},{\"v\":\"Bakkerij Aad Klootwijk\",\"c\":1}],\"value\":\"Bakkerij Klootwijk\",\"size\":2,\"rowCount\":3,\"avg\":20,\"variance\":2},{\"edit\":false,\"choices\":[{\"v\":\"Hollandse Gebakkraam J. Witstijn\",\"c\":2},{\"v\":\"Hollandse Gebakkraam J.Witstijn\",\"c\":1}],\"value\":\"Hollandse Gebakkraam J. Witstijn\",\"size\":2,\"rowCount\":3,\"avg\":31.5,\"variance\":0.5},{\"edit\":false,\"choices\":[{\"v\":\"Oliebollenkraam\",\"c\":6},{\"v\":\"De Oliebollenkraam\",\"c\":1}],\"value\":\"Oliebollenkraam\",\"size\":2,\"rowCount\":7,\"avg\":16.5,\"variance\":1.5},{\"edit\":false,\"choices\":[{\"v\":\"Gebakkraam Vermolen\",\"c\":1},{\"v\":\"Gebakkraam John Vermolen\",\"c\":1}],\"value\":\"Gebakkraam Vermolen\",\"size\":2,\"rowCount\":2,\"avg\":21.5,\"variance\":2.5},{\"edit\":false,\"choices\":[{\"v\":\"Het Suikertuintje van de Betuwe\",\"c\":1},{\"v\":\"Suikertuintje van de Betuwe\",\"c\":1}],\"value\":\"Het Suikertuintje van de Betuwe\",\"size\":2,\"rowCount\":2,\"avg\":29,\"variance\":2},{\"edit\":false,\"choices\":[{\"v\":\"Bakker Voordijk\",\"c\":1},{\"v\":\"Bakkerij Voordijk\",\"c\":1}],\"value\":\"Bakker Voordijk\",\"size\":2,\"rowCount\":2,\"avg\":16,\"variance\":1}]}\n",
    "\"\"\""
   ]
  },
  {
   "cell_type": "code",
   "execution_count": 3,
   "metadata": {},
   "outputs": [
    {
     "name": "stdout",
     "output_type": "stream",
     "text": [
      "Cluster 0\n",
      "- Choice 0: Hollandse Gebakkraam\n",
      "- Choice 1: Hollandsche Gebakkraam\n",
      "- Choice 2: Hollandsche Gebakkraam Albers\n",
      "- Choice 3: Hollandsche Gebakkraam Speelman\n",
      "Cluster 1\n",
      "- Choice 0: Meesterbakker Voskamp\n",
      "- Choice 1: Meesterbakker Voskamp Rhoon\n",
      "- Choice 2: Meesterbakker Voskamp Reede\n",
      "Cluster 2\n",
      "- Choice 0: Bakker Roel - Winkelcentrum\n",
      "- Choice 1: Bakker Roel - Winkelcentrum Parkwijk\n",
      "- Choice 2: Bakker Roel - Winkelcentrum Rokade\n",
      "Cluster 3\n",
      "- Choice 0: Hollandse Gebakkraam\n",
      "- Choice 1: Hollandse Gebakkraam Vlot\n",
      "- Choice 2: Oud Hollandse Gebakkraam\n",
      "Cluster 4\n",
      "- Choice 0: Gebakkraam Jan Vermolen\n",
      "- Choice 1: Gebakkraam Vermolen\n",
      "- Choice 2: Gebakkraam John Vermolen\n",
      "Cluster 5\n",
      "- Choice 0: Gebakkraam Van Reken\n",
      "- Choice 1: Gebakkraam Van Reken & Zn\n",
      "Cluster 6\n",
      "- Choice 0: De Wateringse Oliebollenkraam\n",
      "- Choice 1: Wateringse Oliebollenkraam\n",
      "Cluster 7\n",
      "- Choice 0: Hollandse Gebakkraam T. van de Weerdt\n",
      "- Choice 1: Hollandse Gebakkraam Joop van de Weerdt\n",
      "Cluster 8\n",
      "- Choice 0: Oud Hollandse Gebakkraam Muller\n",
      "- Choice 1: Oud Hollandse Gebakkraam\n",
      "Cluster 9\n",
      "- Choice 0: Bakker Van Keulen\n",
      "- Choice 1: Bakkerij Van Keulen\n",
      "Cluster 10\n",
      "- Choice 0: Hollandse Gebakkraam Albers\n",
      "- Choice 1: Hollandsche Gebakkraam Albers\n",
      "Cluster 11\n",
      "- Choice 0: Hollandse Gebakkraam Huijbrechts\n",
      "- Choice 1: Hollandse Gebakkraam Huijbregts\n",
      "Cluster 12\n",
      "- Choice 0: Van Loon's Gebakkraam\n",
      "- Choice 1: Van Loon’s Gebakkraam\n",
      "Cluster 13\n",
      "- Choice 0: Gebakkraam De Boeck\n",
      "- Choice 1: Gebakkraam De Boer\n",
      "Cluster 14\n",
      "- Choice 0: Meesterbakker Voskamp Rhoon\n",
      "- Choice 1: Meesterbakker Voskamp Reede\n",
      "Cluster 15\n",
      "- Choice 0: Bakkerij Jonker\n",
      "- Choice 1: Bakkerij Jongerius\n",
      "Cluster 16\n",
      "- Choice 0: Hollandse Gebakkraam C. Denies\n",
      "- Choice 1: Hollandse Gebakkraam Denies\n",
      "Cluster 17\n",
      "- Choice 0: Oliebollenkraam Bischoff\n",
      "- Choice 1: Oliebollenkraam Dennis Bischoff\n",
      "Cluster 18\n",
      "- Choice 0: Hollandse Gebakkraam Albers\n",
      "- Choice 1: Hollandse Gebakkraam Nick Albers\n",
      "Cluster 19\n",
      "- Choice 0: Bakkerij Aad Klootwijk - Hillegersberg-noord\n",
      "- Choice 1: Bakkerij Aad Klootwijk - Hillegersberg-zuid\n",
      "Cluster 20\n",
      "- Choice 0: Meesterbakker Van Iersel Hasseltstraat\n",
      "- Choice 1: Meesterbakker Van Iersel Hertogstraat\n",
      "Cluster 21\n",
      "- Choice 0: Oud Hollandse Gebakkraam Aart van de Weerdt\n",
      "- Choice 1: Oud-Hollandse Gebakkraam Aart van de Weerdt\n",
      "Cluster 22\n",
      "- Choice 0: Bakkerij Klootwijk\n",
      "- Choice 1: Bakkerij Aad Klootwijk\n",
      "Cluster 23\n",
      "- Choice 0: Hollandse Gebakkraam J. Witstijn\n",
      "- Choice 1: Hollandse Gebakkraam J.Witstijn\n",
      "Cluster 24\n",
      "- Choice 0: Oliebollenkraam\n",
      "- Choice 1: De Oliebollenkraam\n",
      "Cluster 25\n",
      "- Choice 0: Gebakkraam Vermolen\n",
      "- Choice 1: Gebakkraam John Vermolen\n",
      "Cluster 26\n",
      "- Choice 0: Het Suikertuintje van de Betuwe\n",
      "- Choice 1: Suikertuintje van de Betuwe\n",
      "Cluster 27\n",
      "- Choice 0: Bakker Voordijk\n",
      "- Choice 1: Bakkerij Voordijk\n"
     ]
    }
   ],
   "source": [
    "clusters = json.loads(jsonclusters)\n",
    "i = 0\n",
    "for cluster in clusters['clusters']:\n",
    "    print(\"Cluster \"+str(i))\n",
    "    j = 0\n",
    "    for choice in cluster['choices']:\n",
    "        print(\"- Choice \"+str(j)+\": \"+choice['v'])\n",
    "        j+=1\n",
    "    i+=1"
   ]
  },
  {
   "cell_type": "code",
   "execution_count": 20,
   "metadata": {},
   "outputs": [],
   "source": [
    "selection = {\n",
    "    5: 1,\n",
    "    23: 0,\n",
    "    26: 0,\n",
    "    11: 0,\n",
    "    17: 0,\n",
    "    \n",
    "}"
   ]
  },
  {
   "cell_type": "code",
   "execution_count": 21,
   "metadata": {},
   "outputs": [
    {
     "name": "stdout",
     "output_type": "stream",
     "text": [
      "updatecolumn('Naam', 'Gebakkraam Van Reken & Zn', ['Gebakkraam Van Reken', 'Gebakkraam Van Reken & Zn'])\n",
      "updatecolumn('Naam', 'Hollandse Gebakkraam J. Witstijn', ['Hollandse Gebakkraam J. Witstijn', 'Hollandse Gebakkraam J.Witstijn'])\n",
      "updatecolumn('Naam', 'Het Suikertuintje van de Betuwe', ['Het Suikertuintje van de Betuwe', 'Suikertuintje van de Betuwe'])\n",
      "updatecolumn('Naam', 'Hollandse Gebakkraam Huijbrechts', ['Hollandse Gebakkraam Huijbrechts', 'Hollandse Gebakkraam Huijbregts'])\n"
     ]
    }
   ],
   "source": [
    "for selectionitem in selection:\n",
    "    choices = clusters['clusters'][selectionitem]['choices']\n",
    "    desiredvalue = choices[selection[selectionitem]]['v']\n",
    "    allvalues = []\n",
    "    for choice in choices:\n",
    "        allvalues.append(choice['v'])\n",
    "    print(\"updatecolumn('Naam', '\" +str(desiredvalue)+ \"', \" + str(allvalues) + \")\")"
   ]
  }
 ],
 "metadata": {
  "kernelspec": {
   "display_name": "Python (oliebollen)",
   "language": "python",
   "name": "oliebollen"
  },
  "language_info": {
   "codemirror_mode": {
    "name": "ipython",
    "version": 3
   },
   "file_extension": ".py",
   "mimetype": "text/x-python",
   "name": "python",
   "nbconvert_exporter": "python",
   "pygments_lexer": "ipython3",
   "version": "3.6.4"
  }
 },
 "nbformat": 4,
 "nbformat_minor": 2
}
