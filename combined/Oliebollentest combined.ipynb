{
 "cells": [
  {
   "cell_type": "code",
   "execution_count": 123,
   "metadata": {},
   "outputs": [],
   "source": [
    "import pandas as pd\n",
    "\n",
    "csvfile = \"oliebollentest.csv\""
   ]
  },
  {
   "cell_type": "code",
   "execution_count": 124,
   "metadata": {},
   "outputs": [],
   "source": [
    "oliebollentest2014 = pd.read_csv('../2014/oliebollentest_2014.csv')\n",
    "oliebollentest2015 = pd.read_csv('../2015/oliebollentest_2015.csv')\n",
    "oliebollentest2016 = pd.read_csv('../2016/oliebollentest_2016.csv')\n",
    "oliebollentest2017 = pd.read_csv('../2017/oliebollentest_2017.csv')"
   ]
  },
  {
   "cell_type": "code",
   "execution_count": 125,
   "metadata": {},
   "outputs": [],
   "source": [
    "oliebollentest2014['Jaar'] = '2014'\n",
    "oliebollentest2015['Jaar'] = '2015'\n",
    "oliebollentest2016['Jaar'] = '2016'\n",
    "oliebollentest2017['Jaar'] = '2017'"
   ]
  },
  {
   "cell_type": "code",
   "execution_count": 126,
   "metadata": {},
   "outputs": [
    {
     "name": "stdout",
     "output_type": "stream",
     "text": [
      "Index(['Eindcijfer', 'Gemiddeld gewicht (gr)', 'Hoeveelheid vulling',\n",
      "       'Klefheid', 'Luchtigheid', 'Naam', 'Plaats', 'Plaats op ranglijst',\n",
      "       'Prijs per stuk', 'Smaak', 'Uiterlijk', 'Vetpercentage', 'Zoetheid',\n",
      "       'Jaar'],\n",
      "      dtype='object')\n",
      "Index(['Aanbieding in €', 'Adres', 'Adres_google', 'Categorie', 'Eindcijfer',\n",
      "       'Eindconclusie', 'Gewicht (gram)', 'Naam', 'Plaats',\n",
      "       'Plaats op ranglijst', 'Prijs per stuk (euro)', 'Vetpercentage %',\n",
      "       'Jaar'],\n",
      "      dtype='object')\n",
      "Index(['Aanbieding in €', 'Adres', 'Categorie', 'Conclusie', 'Eindcijfer',\n",
      "       'Gewicht (gram)', 'Naam', 'Nevenvestiging', 'Opmerking', 'Plaats',\n",
      "       'Plaats op ranglijst', 'Prijs per stuk in €', 'Vet in %', 'Jaar'],\n",
      "      dtype='object')\n",
      "Index(['Aanbieding', 'Adres', 'Conclusie', 'Gewicht in gram', 'Naam', 'Plaats',\n",
      "       'Plaats op ranglijst', 'Prijs per stuk in euro', 'Vetpercentage',\n",
      "       'Zelf aangemeld voor deelname', 'Jaar'],\n",
      "      dtype='object')\n"
     ]
    }
   ],
   "source": [
    "for df in [oliebollentest2014, oliebollentest2015, oliebollentest2016, oliebollentest2017]:\n",
    "    print(df.columns)"
   ]
  },
  {
   "cell_type": "code",
   "execution_count": 127,
   "metadata": {},
   "outputs": [],
   "source": [
    "oliebollentest2014.rename(columns = {\n",
    "    'Gemiddeld gewicht (gr)':'Gewicht in gram',\n",
    "    'Prijs per stuk': 'Prijs per stuk in €'\n",
    "    }, inplace = True)\n",
    "oliebollentest2015.rename(columns = {\n",
    "    'Gewicht (gram)':'Gewicht in gram',\n",
    "    'Vetpercentage %': 'Vetpercentage',\n",
    "    'Prijs per stuk (euro)': 'Prijs per stuk in €',\n",
    "    'Eindconclusie': 'Conclusie'\n",
    "}, inplace = True)\n",
    "oliebollentest2016.rename(columns = {\n",
    "    'Gewicht (gram)':'Gewicht in gram',\n",
    "    'Vet in %': 'Vetpercentage',\n",
    "}, inplace = True)\n",
    "oliebollentest2017.rename(columns = {\n",
    "    'Aanbieding':'Aanbieding in €',\n",
    "    'Prijs per stuk in euro': 'Prijs per stuk in €'\n",
    "}, inplace = True)"
   ]
  },
  {
   "cell_type": "code",
   "execution_count": 128,
   "metadata": {},
   "outputs": [
    {
     "data": {
      "text/plain": [
       "['Aanbieding in €',\n",
       " 'Adres',\n",
       " 'Adres_google',\n",
       " 'Categorie',\n",
       " 'Conclusie',\n",
       " 'Eindcijfer',\n",
       " 'Gewicht in gram',\n",
       " 'Hoeveelheid vulling',\n",
       " 'Jaar',\n",
       " 'Klefheid',\n",
       " 'Luchtigheid',\n",
       " 'Naam',\n",
       " 'Nevenvestiging',\n",
       " 'Opmerking',\n",
       " 'Plaats',\n",
       " 'Plaats op ranglijst',\n",
       " 'Prijs per stuk in €',\n",
       " 'Smaak',\n",
       " 'Uiterlijk',\n",
       " 'Vetpercentage',\n",
       " 'Zelf aangemeld voor deelname',\n",
       " 'Zoetheid']"
      ]
     },
     "execution_count": 128,
     "metadata": {},
     "output_type": "execute_result"
    }
   ],
   "source": [
    "oliebollentest = oliebollentest2014.append(oliebollentest2015).append(oliebollentest2016).append(oliebollentest2017)\n",
    "list(oliebollentest)"
   ]
  },
  {
   "cell_type": "code",
   "execution_count": 129,
   "metadata": {},
   "outputs": [],
   "source": [
    "oliebollentest.to_csv(csvfile, index=False)"
   ]
  }
 ],
 "metadata": {
  "kernelspec": {
   "display_name": "Python (oliebollen)",
   "language": "python",
   "name": "oliebollen"
  },
  "language_info": {
   "codemirror_mode": {
    "name": "ipython",
    "version": 3
   },
   "file_extension": ".py",
   "mimetype": "text/x-python",
   "name": "python",
   "nbconvert_exporter": "python",
   "pygments_lexer": "ipython3",
   "version": "3.6.4"
  }
 },
 "nbformat": 4,
 "nbformat_minor": 2
}
